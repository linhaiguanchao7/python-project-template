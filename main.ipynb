{
 "cells": [
  {
   "cell_type": "markdown",
   "metadata": {
    "jupyter": {
     "outputs_hidden": false
    }
   },
   "source": [
    "# AI Studio项目模板"
   ]
  },
  {
   "cell_type": "markdown",
   "metadata": {},
   "source": [
    "## 数据集\n",
    "\n",
    "| 目录 | 说明 | \n",
    "| -------- | -------- | \n",
    "| data |  | "
   ]
  },
  {
   "cell_type": "markdown",
   "metadata": {},
   "source": [
    "## 文件列表\n",
    "\n",
    "| 文件明 | 说明 | \n",
    "| -------- | -------- | \n",
    "| [readme.md](readme.md) | 项目概述、历史变更信息。 | \n",
    "| [install.sh](install.sh) | shell脚本， 安装配置基础环境，包括安装python依赖包，解压缩数据集文件。根据官方文档建议，第三方依赖包统一安装在external-libraries目录下。 | \n",
    "| [requirements.txt](requirements.txt) | pip依赖包管理文件，[install.sh](install.sh)调用pip安装依赖包时会调用本文件。 | \n",
    "| [init_env.ipynb](init_env.ipynb) | 需要人工干预执行的安装配置管理代码。 | "
   ]
  }
 ],
 "metadata": {
  "kernelspec": {
   "display_name": "Python 3",
   "language": "python",
   "name": "py35-paddle1.2.0"
  },
  "language_info": {
   "codemirror_mode": {
    "name": "ipython",
    "version": 3
   },
   "file_extension": ".py",
   "mimetype": "text/x-python",
   "name": "python",
   "nbconvert_exporter": "python",
   "pygments_lexer": "ipython3",
   "version": "3.10.10"
  },
  "toc-autonumbering": true,
  "toc-showtags": true
 },
 "nbformat": 4,
 "nbformat_minor": 4
}
